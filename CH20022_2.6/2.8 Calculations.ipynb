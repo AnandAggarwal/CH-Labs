{
 "cells": [
  {
   "cell_type": "markdown",
   "metadata": {},
   "source": [
    "# Experiment 2.6 Voltammetry\n",
    "### Determination of diffusion coefficients using cyclic voltammetry"
   ]
  },
  {
   "cell_type": "markdown",
   "metadata": {},
   "source": [
    "# Abstract\n",
    "\n",
    "The determination of diffusion coefficients of ions is important particularly for plants. Voltammetry can allow for diffusion coefficients to be determined from various derived equations. The data presented shows the expected relationship between variables and thus how to determine the respective coefficients. The diffusion coefficient for Fe3+ was found to be \n",
    "\n",
    "# Introduction\n",
    "\n",
    "The effect of pH on redox reactions is important as these reactions occur readily in nature and redox potential measurements allow for characterisation of compounds at certain pH and allow for better understanding of the stability of compounds used to regulate nutrients in soils. The determination of diffusion coefficients is important, particularly in nature, as they represent the fundamental property of permeability and dictate how many molecules of nutrients or compounds can diffuse over an area per second. \n",
    "\n",
    "The use of the Randles-Sevich equation (which applie to cyclic voltammetry measurements) continues onwards from previous determination in lab 2.5 of the diffusion coefficient of $Fe(CN)_{6}^{3-}$ which used chronoamperometry and the Cottrell equation. The Randles-Sevich equation was derived in 1938 and the Cottrell equation in 1903. Both have been used for decades successfully and the experiment here could be used to support further understanding in the growth and development of plants – as Fe3+ ions are vital minerals for plants. Many different forms of voltammetry exist and, in this experiment, cyclic voltammetry was used.\n",
    "\n",
    "# Method\n",
    "\n",
    "A three electrode cell was set up as shown in figure 1 containing 200 mL of 0.02 M K3Fe(CN)6 and 1.0 M KNO3. The reference electrode was polished on alumina and washed with distilled water. The addition of KNO3 is to increase the conductivity of the solution. The electrodes were then connected to the potentiostat and computer. PSTrace 5.3 was then used under the cyclic voltammetry mode using the following potentials to produce a current vs voltage graph that enabled the determination of the reduction potential of [Fe(CN)6]3- to [Fe(CN)6] 4-. \n",
    "\n",
    "Equilibration\t5 s\n",
    "\n",
    "Ebegin  \t    +0.5 V\n",
    "\n",
    "Evertex 1 \t    0.0 V\n",
    "\n",
    "Evertex 2      \t+0.5 V\n",
    "\n",
    "Estep\t        0.001 V\n",
    "\n",
    "Scan rate\t    0.05 V / s\n",
    "\n",
    "\n",
    "The relationship between peak reduction current and sweep rate was then investigated to see if |i_p^c | ∝(v^0.5) by repeating measurements at different scan rates (10, 20, 40, 50, 100, 160 and 200 mV s-1). The measurements at each scan rate were plotted on the same graph. A plot of the peak reduction currents against sweep rates was determine whether these two variables had such a relationship.\n",
    "\n",
    "The Randles-Sevich equation then describes the relationship seen above between the scan rate and the peak reduction currents and can thus be used to determine the diffusion coefficient of the Fe (III) species.\n"
   ]
  },
  {
   "cell_type": "code",
   "execution_count": 8,
   "metadata": {
    "scrolled": true
   },
   "outputs": [
    {
     "name": "stdout",
     "output_type": "stream",
     "text": [
      "Peak Reduction Current at 10mV is: -29.24107313\n",
      "Peak Reduction Current at 20mV is: -39.78497982\n",
      "Peak Reduction Current at 40mV is: -54.49770689\n",
      "Peak Reduction Current at 50mV is: -59.77903605\n",
      "Peak Reduction Current at 70mV is: -70.19795179\n",
      "Peak Reduction Current at 90mV is: -77.07306147\n",
      "Peak Reduction Current at 100mV is: -80.73561192\n",
      "[2.92410731e-05 3.97849798e-05 5.44977069e-05 5.97790360e-05\n",
      " 7.01979518e-05 7.70730615e-05 8.07356119e-05]\n"
     ]
    }
   ],
   "source": [
    "import pandas as pd\n",
    "mV10 = pd.read_csv(r'10mV.csv')\n",
    "mV20 = pd.read_csv(r'20mV.csv')\n",
    "mV40 = pd.read_csv(r'40mV.csv')\n",
    "mV50 = pd.read_csv(r'50mV.csv')\n",
    "mV70 = pd.read_csv(r'70mV.csv')\n",
    "mV90 = pd.read_csv(r'90mV.csv')\n",
    "mV100 = pd.read_csv(r'100mV.csv') #importing all the data files at each scan rate with 'duck's shape'\n",
    "\n",
    "import numpy as np\n",
    "import matplotlib.pyplot as plt\n",
    "\n",
    "mV10_list = mV10['µA'] #setting a list of just the micro Amp values so that a minimum of each list can be determined\n",
    "print('Peak Reduction Current at 10mV is:', min(mV10_list))\n",
    "mV20_list = mV20['µA']\n",
    "print('Peak Reduction Current at 20mV is:', min(mV20_list))\n",
    "mV40_list = mV40['µA']\n",
    "print('Peak Reduction Current at 40mV is:', min(mV40_list))\n",
    "mV50_list = mV50['µA']\n",
    "print('Peak Reduction Current at 50mV is:', min(mV50_list))\n",
    "mV70_list = mV70['µA']\n",
    "print('Peak Reduction Current at 70mV is:', min(mV70_list))\n",
    "mV90_list = mV90['µA']\n",
    "print('Peak Reduction Current at 90mV is:', min(mV90_list))\n",
    "mV100_list = mV100['µA']\n",
    "print('Peak Reduction Current at 100mV is:', min(mV100_list))\n",
    "\n",
    "mV10_min = (29.24107313 / 1000000) #standardising the peak reduction currents into Amps for use in Randles-Sevcik equation\n",
    "mV20_min = (39.78497982 / 1000000)\n",
    "mV40_min = 54.49770689 / 1000000\n",
    "mV50_min = 59.77903605 / 1000000\n",
    "mV70_min = 70.19795179 / 1000000\n",
    "mV90_min = 77.07306147 / 1000000\n",
    "mV100_min = 80.73561192 / 1000000\n",
    "\n",
    "sweep_rate = np.array([0.01,0.02,0.04,0.05,0.07,0.09,0.1])\n",
    "peak_reduction_currents = np.array([mV10_min,mV20_min,mV40_min,mV50_min,mV70_min,mV90_min,mV100_min])\n",
    "sqrt_sweep_rate = np.sqrt(sweep_rate)\n",
    "print(peak_reduction_currents)"
   ]
  },
  {
   "cell_type": "markdown",
   "metadata": {},
   "source": [
    "The relationship between the sweep rate and reduction peak current is thought to be:\n",
    "\\begin{equation} i_p ∝ w(^0.5)\\end{equation}\n",
    "\n",
    "This follows the Randles-Sevcik equation which allows for the determination of the diffusion coefficient of a species in a cyclic voltameter. The graph below will show if the relationship between the square root of the sweep rate and the reduction peak current is linear and, if it is, it can be said to fit the Randles-Sevcik model.\n"
   ]
  },
  {
   "cell_type": "code",
   "execution_count": 7,
   "metadata": {},
   "outputs": [
    {
     "data": {
      "image/png": "[encoded data removed]",
      "text/plain": [
       "<Figure size 432x288 with 1 Axes>"
      ]
     },
     "metadata": {
      "needs_background": "light"
     },
     "output_type": "display_data"
    },
    {
     "name": "stdout",
     "output_type": "stream",
     "text": [
      "The r-squared value for this plot is: 0.9993054939725885 . This shows clearly that there is a linear relationship between the square root of the sweep rate and the peak reduction currents\n",
      "The intercept for the line of best fit is: 6.097483495004049e-06\n",
      "The gradient of the slope is: 0.00023846528140325266\n",
      "The slope, converted from micro Amps to Amps, is: 2.384652814032527e-10\n"
     ]
    }
   ],
   "source": [
    "import scipy\n",
    "from scipy.stats import linregress\n",
    "(slope, intercept, rvalue, pvalue, stderr) = linregress(sqrt_sweep_rate,peak_reduction_currents)\n",
    "\n",
    "plt.plot(sqrt_sweep_rate, peak_reduction_currents, 'o')\n",
    "plt.xlabel( 'sqrt(sweep rate)' )\n",
    "plt.ylabel( 'peak reduction currents / micro A' )\n",
    "plt.\n",
    "\n",
    "\n",
    "peak_reduction_pred = intercept + slope*sqrt_sweep_rate\n",
    "plt.plot(sqrt_sweep_rate,peak_reduction_pred,':', color=\"green\", label=\"Fitted line\")\n",
    "\n",
    "my_title = 'linearisation of relationship between sqrt of sweep rate and peak reduction current'\n",
    "plt.title( my_title )\n",
    "plt.show()\n",
    "\n",
    "print (\"The r-squared value for this plot is:\", rvalue, \". This shows clearly that there is a linear relationship between the square root of the sweep rate and the peak reduction currents\")\n",
    "print (\"The intercept for the line of best fit is:\", intercept)\n",
    "print (\"The gradient of the slope is:\", slope)\n",
    "\n",
    "slope_standardised = slope/1000000\n",
    "print (\"The slope, converted from micro Amps to Amps, is:\", slope_standardised)"
   ]
  },
  {
   "cell_type": "markdown",
   "metadata": {},
   "source": [
    "The next step, having detemined this linear relationship is then to plot a graph that will allow us to determine the diffusion coefficient of the Fe^(3+) species in this experiment using the Randles-Sevcik equation"
   ]
  },
  {
   "cell_type": "markdown",
   "metadata": {},
   "source": [
    "<img style=\"width:200px\" src='randles.svg'/>\n",
    "\n",
    "A plot of the square-root of the scan rate on the x-axis and peak reduction current on the y-axis can thus be used to determine the diffusion coefficient.\n",
    "\n",
    "Below shows the rearrangement of the Randles-Sevcik equation to fit a) the plot shown and b) how to use the gradient to determine the diffusion coefficient, D.\n",
    "\n",
    "<img style=\"width:400px\" src='equations.jpg'/>\n",
    "\n",
    "n is the number of electrons involved in the redox of Fe (III) and Fe (II) which in this case is 1.\n",
    "\n",
    "A is the electrode area in $cm^{2}$. The electrode diameter was measured as 1.56 mm and so the area is $1.91 * 10^{-2}$ $cm^{2}$\n",
    "\n",
    "F is the Faraday Constant in $C mol^{-1}$\n",
    "\n",
    "C is the concentration of the Fe (III) solution in mol $dm^{-3}$\n",
    "\n",
    "R is the Gas Constant in $J K^{-1} mol^{-1}$\n",
    "\n",
    "T is the temperature in K and was 298.15K in the lab on the day.\n",
    "\n",
    "D was calculated to be $1.15 * 10^{-7}$ $cm^{2}$ $s^{-1}$\n",
    "\n",
    "# Conclusion\n",
    "\n",
    "The literature value for the diffusion coefficient of $Fe(CN)_{6}^{3-}$ is given as $8.96 * 10^{-6} cm^{2} s^{-1}$. The calculated value for the diffusion coefficient using chronoamperometry was determined as $9.83 * 10^{-6} cm^{2} s^{-1}$\n",
    "\n",
    "The value determined using chronoamperometry was 10% greater than the literature value and the value using cyclic voltammetry was 16% greater than the literature value. As both literature values are outside the error range provided by the plot, it suggests the experiment overall was somewhat inaccurate and that further repeats of the experiment would be needed to be confident in the value of the diffusion coefficient. Testing of the stock solution may also be valuable as the concentration may have changed if the lid was off. \n",
    "\n",
    "# References\n",
    "\n",
    "\n",
    "2021-22 CH20022 lab manual 2021/2022 (equations and figures)\n",
    "\n",
    "Chemistry Department, University of Geneva\n",
    "\n",
    "A. Molina, J. González, E. Laborda,  R. G. Compton; On the meaning of the diffusion layer thickness for slow electrode reactions; Physical Chemistry Chemical Physics; 2013, 7\n",
    "\n",
    "Zhuang, S, Shi, X, & Lee, ES; \"A Review on Non-PGM Cathode Catalysts for Polymer Electrolyte Membrane (PEM) Fuel Cell; American Society of Mechanical Engineers; 2015; 28.\n"
   ]
  },
  {
   "cell_type": "code",
   "execution_count": null,
   "metadata": {},
   "outputs": [],
   "source": []
  },
  {
   "cell_type": "code",
   "execution_count": null,
   "metadata": {},
   "outputs": [],
   "source": []
  }
 ],
 "metadata": {
  "kernelspec": {
   "display_name": "Python 3",
   "language": "python",
   "name": "python3"
  },
  "language_info": {
   "codemirror_mode": {
    "name": "ipython",
    "version": 3
   },
   "file_extension": ".py",
   "mimetype": "text/x-python",
   "name": "python",
   "nbconvert_exporter": "python",
   "pygments_lexer": "ipython3",
   "version": "3.8.3"
  }
 },
 "nbformat": 4,
 "nbformat_minor": 4
}
